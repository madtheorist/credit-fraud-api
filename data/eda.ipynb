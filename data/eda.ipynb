{
 "cells": [
  {
   "cell_type": "markdown",
   "metadata": {},
   "source": [
    "### Simulated credit card transactions - Exploratory Data Analysis\n",
    "\n",
    "This is a simulated credit card transaction dataset with legitimate and fraud transactions in 2019 and 2020. It was sourced from Kaggle https://www.kaggle.com/datasets/kartik2112/fraud-detection?resource=download&select=fraudTrain.csv"
   ]
  },
  {
   "cell_type": "code",
   "execution_count": 43,
   "metadata": {},
   "outputs": [],
   "source": [
    "import pandas as pd\n",
    "import matplotlib.pyplot as plt\n",
    "from matplotlib.axes import Axes"
   ]
  },
  {
   "cell_type": "markdown",
   "metadata": {},
   "source": [
    "Initial questions after loading in the data\n",
    "- How many samples are there? How many belong to the majority class (not fraud) and minority class (fraud)? What kind of oversampling methods (e.g. SMOTE) can we use to handle this imbalance?\n",
    "- What are the numerical and categorical features?\n",
    "- What are the distributions of the numerical features like? How do we handle missing values?"
   ]
  },
  {
   "cell_type": "code",
   "execution_count": 2,
   "metadata": {},
   "outputs": [],
   "source": [
    "filepath = 'fraudTrain.csv'\n",
    "df = pd.read_csv(filepath)"
   ]
  },
  {
   "cell_type": "code",
   "execution_count": null,
   "metadata": {},
   "outputs": [
    {
     "data": {
      "text/plain": [
       "Index(['Unnamed: 0', 'trans_date_trans_time', 'cc_num', 'merchant', 'category',\n",
       "       'amt', 'first', 'last', 'gender', 'street', 'city', 'state', 'zip',\n",
       "       'lat', 'long', 'city_pop', 'job', 'dob', 'trans_num', 'unix_time',\n",
       "       'merch_lat', 'merch_long', 'is_fraud'],\n",
       "      dtype='object')"
      ]
     },
     "execution_count": 7,
     "metadata": {},
     "output_type": "execute_result"
    }
   ],
   "source": [
    "# quick overview of the data columns that we have\n",
    "df.columns"
   ]
  },
  {
   "cell_type": "code",
   "execution_count": null,
   "metadata": {},
   "outputs": [
    {
     "name": "stdout",
     "output_type": "stream",
     "text": [
      "Num samples: 1296675\n"
     ]
    },
    {
     "data": {
      "text/plain": [
       "is_fraud\n",
       "0    0.994211\n",
       "1    0.005789\n",
       "Name: proportion, dtype: float64"
      ]
     },
     "execution_count": 10,
     "metadata": {},
     "output_type": "execute_result"
    }
   ],
   "source": [
    "# how unbalanced is the training set?\n",
    "n_samples = len(df)\n",
    "print(f'Num samples: {n_samples}')\n",
    "df['is_fraud'].value_counts(normalize=True) # 99.4% of samples are not fraud"
   ]
  },
  {
   "cell_type": "code",
   "execution_count": 13,
   "metadata": {},
   "outputs": [],
   "source": [
    "# Split into fraud and non-fraud cases\n",
    "df_normal = df.loc[df['is_fraud']==0]\n",
    "df_fraud = df.loc[df['is_fraud']==1]"
   ]
  },
  {
   "cell_type": "markdown",
   "metadata": {},
   "source": [
    "## Transaction amount\n",
    "- Do unusually large or small payment amounts indicate fraud? \n",
    "- Examine the distribution of transaction amounts for both fraud and non-fraud cases"
   ]
  },
  {
   "cell_type": "code",
   "execution_count": null,
   "metadata": {},
   "outputs": [
    {
     "data": {
      "text/plain": [
       "Text(0.5, 1.0, 'Fraud')"
      ]
     },
     "execution_count": 32,
     "metadata": {},
     "output_type": "execute_result"
    },
    {
     "data": {
      "image/png": "[encoded data removed]",
      "text/plain": [
       "<Figure size 640x480 with 2 Axes>"
      ]
     },
     "metadata": {},
     "output_type": "display_data"
    }
   ],
   "source": [
    "fig, axs = plt.subplots(1, 2)\n",
    "axs[0].hist(df_normal['amt'], bins=500)\n",
    "axs[0].set_xlim(left=0, right=1000)\n",
    "axs[0].set_xlabel('Transaction amount')\n",
    "axs[0].set_ylabel('Frequency')\n",
    "axs[0].set_title('Normal')\n",
    "axs[1].hist(df_fraud['amt'], bins=20, color='red')\n",
    "axs[1].set_xlabel('Transaction amount')\n",
    "axs[1].set_ylabel('Frequency')\n",
    "axs[1].set_title('Fraud')"
   ]
  },
  {
   "cell_type": "code",
   "execution_count": null,
   "metadata": {},
   "outputs": [],
   "source": [
    "# helper function to compute summary statistics of a numerical column\n",
    "def print_summary_stats(col: pd.Series, is_fraud=False) -> None:\n",
    "    print(f\"\"\"\n",
    "    Summary statistics for {col.name},{is_fraud=}\n",
    "    mean: {col.mean()}\n",
    "    median: {col.median()}\n",
    "    skewness: {col.skew()}\n",
    "    \"\"\")"
   ]
  },
  {
   "cell_type": "code",
   "execution_count": 42,
   "metadata": {},
   "outputs": [
    {
     "name": "stdout",
     "output_type": "stream",
     "text": [
      "\n",
      "    Summary statistics for amt,is_fraud=True\n",
      "    mean: 531.3200919264589\n",
      "    median: 396.505\n",
      "    skewness: 0.02584608402403506\n",
      "    \n",
      "\n",
      "    Summary statistics for amt,is_fraud=False\n",
      "    mean: 67.6671098126002\n",
      "    median: 47.28\n",
      "    skewness: 47.523765335989694\n",
      "    \n"
     ]
    }
   ],
   "source": [
    "print_summary_stats(df_fraud['amt'], is_fraud=True)\n",
    "print_summary_stats(df_normal['amt'], is_fraud=False)"
   ]
  },
  {
   "cell_type": "markdown",
   "metadata": {},
   "source": [
    "Distribution of normal transactions is positively skewed and very roughly in the shape of an exponential distribution. The distribution of fraudulent transactions is multi-modal, with modes at very small values and just under 1000. On average fraudulent transactions have a larger mean/median."
   ]
  },
  {
   "cell_type": "markdown",
   "metadata": {},
   "source": [
    "## Transaction category\n",
    "- What are the different transaction categories?\n",
    "- Is there a statistically significance difference in the proportion of certain kinds of categories for the fraud and non-fraud cases?\n",
    "- Can we one-hot encode this data?"
   ]
  },
  {
   "cell_type": "code",
   "execution_count": 51,
   "metadata": {},
   "outputs": [
    {
     "data": {
      "text/plain": [
       "category\n",
       "gas_transport     0.101648\n",
       "home              0.095346\n",
       "grocery_pos       0.094553\n",
       "shopping_pos      0.089848\n",
       "kids_pets         0.087495\n",
       "shopping_net      0.074335\n",
       "entertainment     0.072745\n",
       "food_dining       0.070829\n",
       "personal_care     0.070230\n",
       "health_fitness    0.066513\n",
       "misc_pos          0.061594\n",
       "misc_net          0.048382\n",
       "grocery_net       0.035153\n",
       "travel            0.031331\n",
       "Name: proportion, dtype: float64"
      ]
     },
     "execution_count": 51,
     "metadata": {},
     "output_type": "execute_result"
    }
   ],
   "source": [
    "df_normal['category'].value_counts(normalize=True)"
   ]
  },
  {
   "cell_type": "code",
   "execution_count": null,
   "metadata": {},
   "outputs": [
    {
     "data": {
      "text/plain": [
       "category\n",
       "grocery_pos       0.232214\n",
       "shopping_net      0.228217\n",
       "misc_net          0.121902\n",
       "shopping_pos      0.112310\n",
       "gas_transport     0.082334\n",
       "misc_pos          0.033307\n",
       "kids_pets         0.031841\n",
       "entertainment     0.031042\n",
       "personal_care     0.029310\n",
       "home              0.026379\n",
       "food_dining       0.020117\n",
       "grocery_net       0.017852\n",
       "health_fitness    0.017719\n",
       "travel            0.015454\n",
       "Name: proportion, dtype: float64"
      ]
     },
     "execution_count": 46,
     "metadata": {},
     "output_type": "execute_result"
    }
   ],
   "source": [
    "df_fraud['category'].value_counts(normalize=True, )"
   ]
  },
  {
   "cell_type": "markdown",
   "metadata": {},
   "source": [
    "It seems like among fraudulent transactions, the proportion of in-person grocery (```grocery_pos```) and online shopping (```shopping_net```) are higher in a statistically significant way. We can confirm this using a two-proportion z-test."
   ]
  },
  {
   "cell_type": "code",
   "execution_count": null,
   "metadata": {},
   "outputs": [],
   "source": []
  }
 ],
 "metadata": {
  "kernelspec": {
   "display_name": ".venv",
   "language": "python",
   "name": "python3"
  },
  "language_info": {
   "codemirror_mode": {
    "name": "ipython",
    "version": 3
   },
   "file_extension": ".py",
   "mimetype": "text/x-python",
   "name": "python",
   "nbconvert_exporter": "python",
   "pygments_lexer": "ipython3",
   "version": "3.11.9"
  }
 },
 "nbformat": 4,
 "nbformat_minor": 2
}
